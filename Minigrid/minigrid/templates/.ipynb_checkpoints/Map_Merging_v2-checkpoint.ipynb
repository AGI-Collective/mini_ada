{
 "cells": [
  {
   "cell_type": "code",
   "execution_count": 1,
   "id": "b386585f",
   "metadata": {},
   "outputs": [
    {
     "name": "stderr",
     "output_type": "stream",
     "text": [
      "/Users/jonathanlim/.local/lib/python3.8/site-packages/pandas/core/computation/expressions.py:20: UserWarning: Pandas requires version '2.7.3' or newer of 'numexpr' (version '2.7.1' currently installed).\n",
      "  from pandas.core.computation.check import NUMEXPR_INSTALLED\n"
     ]
    }
   ],
   "source": [
    "import pandas as pd\n",
    "import numpy as np\n",
    "import random "
   ]
  },
  {
   "cell_type": "code",
   "execution_count": 42,
   "id": "13998914",
   "metadata": {},
   "outputs": [],
   "source": [
    "master_height = 40\n",
    "master_width = 40\n",
    "master_map = []\n",
    "\n",
    "# Init master_map\n",
    "for i in range(master_height):\n",
    "    row = []\n",
    "    for j in range(master_width):\n",
    "        row.append(None)\n",
    "    master_map.append(row)\n"
   ]
  },
  {
   "cell_type": "code",
   "execution_count": 43,
   "id": "589db64c",
   "metadata": {},
   "outputs": [],
   "source": [
    "master_map = np.array(master_map)"
   ]
  },
  {
   "cell_type": "code",
   "execution_count": 44,
   "id": "c5ebfc6a",
   "metadata": {},
   "outputs": [],
   "source": [
    "layout_5 = pd.read_csv('layout_5.csv', header=None).to_numpy()\n",
    "layout_6 = pd.read_csv('layout_6.csv', header=None).to_numpy()\n",
    "layout_7 = pd.read_csv('layout_7.csv', header=None).to_numpy()\n",
    "layout_8 = pd.read_csv('layout_8.csv', header=None).to_numpy()\n",
    "submap = layout_7\n",
    "# submap_3 = layout_7"
   ]
  },
  {
   "cell_type": "code",
   "execution_count": 45,
   "id": "1f6e1ade",
   "metadata": {},
   "outputs": [],
   "source": [
    "mastermap_height = master_map.shape[0]\n",
    "mastermap_width = master_map.shape[1]\n",
    "\n",
    "submap_height = submap.shape[0]\n",
    "submap_width = submap.shape[1]"
   ]
  },
  {
   "cell_type": "code",
   "execution_count": 46,
   "id": "2d60c6fe",
   "metadata": {},
   "outputs": [
    {
     "data": {
      "text/plain": [
       "(7, 7)"
      ]
     },
     "execution_count": 46,
     "metadata": {},
     "output_type": "execute_result"
    }
   ],
   "source": [
    "submap_height, submap_width"
   ]
  },
  {
   "cell_type": "code",
   "execution_count": null,
   "id": "258840d8",
   "metadata": {},
   "outputs": [],
   "source": [
    "class Tile:\n",
    "    def __init__(self, tile_type, position):\n",
    "        self.tile_type = tile_type\n",
    "        self.position = position\n",
    "        \n",
    "        \n",
    "    def can_overlap(self):\n",
    "        pass\n",
    "    \n",
    "    def resolve_overlap(self, tile):\n",
    "        pass\n",
    "    \n",
    "    def update(self, state):\n",
    "        # if end_all_merges:\n",
    "        pass"
   ]
  },
  {
   "cell_type": "code",
   "execution_count": null,
   "id": "602c9486",
   "metadata": {},
   "outputs": [],
   "source": [
    "class Wall(Tile):\n",
    "    def __init__(self, position):\n",
    "        super().__init__(name=\"Wall\", position=position)\n",
    "    \n",
    "    def can_overlap(self):\n",
    "        return False\n",
    "    \n",
    "    def resolve_overlap(self, incoming_tile):\n",
    "        return self\n",
    "    \n",
    "    def update(self, state):\n",
    "        return\n",
    "\n",
    "class Space(Tile):\n",
    "    def __init__(self, position):\n",
    "        super().__init__(name=\"Space\", position=position)\n",
    "    \n",
    "    def can_overlap(self):\n",
    "        return True\n",
    "    \n",
    "    def resolve_overlap(self, incoming_tile):\n",
    "        return incoming_tile\n",
    "    \n",
    "    def update(self, state):\n",
    "        return\n",
    "\n",
    "class Space(Tile):\n",
    "    def __init__(self, position):\n",
    "        super().__init__(name=\"Space\", position=position)\n",
    "    \n",
    "    def can_overlap(self):\n",
    "        return True\n",
    "    \n",
    "    def resolve_overlap(self, incoming_tile):\n",
    "        return incoming_tile\n",
    "    \n",
    "    def update(self, state):\n",
    "        return\n",
    "\n",
    "class Exit(Tile):\n",
    "    def __init__(self, position):\n",
    "        super().__init__(name=\"Exit\", position=position)\n",
    "    \n",
    "    def can_overlap(self):\n",
    "        return True\n",
    "    \n",
    "    def resolve_overlap(self, incoming_tile):\n",
    "        return incoming_tile\n",
    "    \n",
    "    def update(self, state):\n",
    "        if state == 'merge':\n",
    "            return Space(position=self.position)\n",
    "        \n",
    "        elif state == 'end_merges':\n",
    "            return Wall(position=self.position)\n",
    "\n",
    "class Undefined(Tile):\n",
    "    def __init__(self, position, alt_obj='Wall'):\n",
    "        self.alt_mapping = {\n",
    "            'Wall': Wall(position),\n",
    "            'Space': Space(position),\n",
    "        }\n",
    "        \n",
    "        super().__init__(name=\"Undef\", position=position)\n",
    "    \n",
    "    def can_overlap(self):\n",
    "        return True\n",
    "    \n",
    "    def resolve_overlap(self, incoming_tile):\n",
    "        return incoming_tile\n",
    "    \n",
    "    def update(self, state):\n",
    "        if state == 'merge':\n",
    "            return Space(position=self.position)\n",
    "        \n",
    "        elif state == 'end_merges':\n",
    "            return self.alt_mapping[alt_obj]\n"
   ]
  },
  {
   "cell_type": "code",
   "execution_count": 47,
   "id": "fffed6ff",
   "metadata": {},
   "outputs": [],
   "source": [
    "# Randomly pick valid coordinate to place submap\n",
    "\n",
    "start_row_idx = random.randint(0, mastermap_height-submap_height)\n",
    "start_col_idx = random.randint(0, mastermap_width-submap_width)"
   ]
  },
  {
   "cell_type": "code",
   "execution_count": 48,
   "id": "75a8cfc9",
   "metadata": {},
   "outputs": [],
   "source": [
    "# Insert submap into mastermap\n",
    "for row_idx in range(submap_height):\n",
    "    for col_idx in range(submap_width):\n",
    "        master_map[row_idx + start_row_idx][col_idx + start_col_idx] = submap[row_idx][col_idx]\n",
    "        "
   ]
  },
  {
   "cell_type": "code",
   "execution_count": 49,
   "id": "0c94a566",
   "metadata": {},
   "outputs": [],
   "source": [
    "# Track exits\n",
    "def get_exit_coords_dict(_map, is_mastermap=True):\n",
    "    exits = {'up': [], 'down': [], 'left': [], 'right': []}\n",
    "    for row_idx in range(len(_map)):\n",
    "        for col_idx in range(len(_map[0])):\n",
    "            if _map[row_idx][col_idx] == 'Exit':\n",
    "                # Check which direction this exit is facing\n",
    "                if is_mastermap:\n",
    "                    if (row_idx-1) >= 0 and _map[row_idx-1][col_idx] is None:\n",
    "                        exits['up'].append((row_idx, col_idx))\n",
    "                    if (row_idx+1) < len(_map) and _map[row_idx+1][col_idx] is None:\n",
    "                        exits['down'].append((row_idx, col_idx))\n",
    "                    if (col_idx-1) >= 0 and _map[row_idx][col_idx-1] is None:\n",
    "                        exits['left'].append((row_idx, col_idx))\n",
    "                    if (col_idx+1) < len(_map[0]) and _map[row_idx][col_idx+1] is None:\n",
    "                        exits['right'].append((row_idx, col_idx))\n",
    "                else:\n",
    "                    if row_idx == 0:\n",
    "                        exits['up'].append((row_idx, col_idx))\n",
    "                    if row_idx == len(_map)-1:\n",
    "                        exits['down'].append((row_idx, col_idx))\n",
    "                    if col_idx == 0:\n",
    "                        exits['left'].append((row_idx, col_idx))\n",
    "                    if col_idx == len(_map[0])-1:\n",
    "                        exits['right'].append((row_idx, col_idx))\n",
    "    return exits\n",
    "\n",
    "def get_exit_coords_list(_map):\n",
    "    exits = []\n",
    "    for row_idx in range(len(_map)):\n",
    "        for col_idx in range(len(_map[0])):\n",
    "            if _map[row_idx][col_idx] == 'Exit':\n",
    "                exits.append((row_idx, col_idx))\n",
    "    return exits\n",
    "\n",
    "def has_space(mastermap, submap, start_coords):\n",
    "    _has_space = True\n",
    "    mastermap_height = len(mastermap)\n",
    "    mastermap_width = len(mastermap[0])\n",
    "    for r in range(len(submap)):\n",
    "        for c in range(len(submap[0])):\n",
    "            row_idx = start_coords[0]+r\n",
    "            col_idx = start_coords[1]+c\n",
    "            if row_idx < 0 or row_idx >= mastermap_height or col_idx < 0 or col_idx >= mastermap_width or master_map[row_idx][col_idx] is not None:\n",
    "                _has_space = False\n",
    "                break\n",
    "        if _has_space is False:\n",
    "            break\n",
    "            \n",
    "    return _has_space\n",
    "\n",
    "def merge_maps(mastermap, submap, start_coords):\n",
    "    for r in range(len(submap)):\n",
    "        for c in range(len(submap[0])):\n",
    "            mastermap[start_coords[0]+r][start_coords[1]+c] = submap[r][c]\n",
    "\n",
    "def left_right_up_down_merge(mastermap, submap):\n",
    "    directions = [(0, -1), (0, 1), (-1, 0), (1, 0)]\n",
    "    mastermap_exits_coords_list = get_exit_coords_list(mastermap)\n",
    "    submap_exits_coords_list = get_exit_coords_list(submap)\n",
    "    has_merged = False\n",
    "    \n",
    "    for mastermap_coords in mastermap_exits_coords_list:\n",
    "        for submap_coords in submap_exits_coords_list:\n",
    "            # Attempt left right up down merges wrt master map\n",
    "            start_coords_list = [(mastermap_coords[0]-submap_coords[0], mastermap_coords[1]-1-submap_coords[1]), (mastermap_coords[0]-submap_coords[0], mastermap_coords[1]+1-submap_coords[1]), (mastermap_coords[0]-1-submap_coords[0], mastermap_coords[1]-submap_coords[1]), (mastermap_coords[0]+1-submap_coords[0], mastermap_coords[1]-submap_coords[1])]\n",
    "\n",
    "            for i, start_coords in enumerate(start_coords_list):\n",
    "                if has_space(mastermap, submap, start_coords) is True:\n",
    "                    merge_maps(mastermap, submap, start_coords)\n",
    "                    has_merged = True\n",
    "                    # Convert joined Exits into Space\n",
    "                    mastermap[mastermap_coords[0]][mastermap_coords[1]] = 'Space'\n",
    "                    mastermap[mastermap_coords[0]+directions[i][0]][mastermap_coords[1]+directions[i][1]] = 'Space'\n",
    "                    print(f\"Master coords: {mastermap_coords}, submap_coords: {submap_coords}, Successful start_coords: {start_coords}, index {i}\")\n",
    "                    break\n",
    "            if has_merged:\n",
    "                break\n",
    "        if has_merged:\n",
    "            break\n",
    "    return has_merged\n",
    "\n",
    "def attempt_to_merge_maps(mastermap, submap, rotation=True):\n",
    "    has_merged = False\n",
    "\n",
    "    # Try rotating map up to 270 degrees\n",
    "    num_rotations = 3 if rotation else 1\n",
    "    for i in range(num_rotations):\n",
    "        has_merged = left_right_up_down_merge(mastermap, submap)\n",
    "        submap = np.rot90(np.array(submap)).tolist()\n",
    "        if has_merged:\n",
    "            break\n",
    "    if not has_merged:\n",
    "        print(f\"No valid merge rotation found!\")\n",
    "    \n",
    "    return has_merged"
   ]
  },
  {
   "cell_type": "code",
   "execution_count": 50,
   "id": "061b39e4",
   "metadata": {},
   "outputs": [
    {
     "name": "stdout",
     "output_type": "stream",
     "text": [
      "Master coords: (17, 26), submap_coords: (6, 3), Successful start_coords: (10, 23), index 2\n",
      "True\n"
     ]
    }
   ],
   "source": [
    "has_merged = attempt_to_merge_maps(master_map, layout_8, rotation=True)\n",
    "print(has_merged)"
   ]
  },
  {
   "cell_type": "code",
   "execution_count": 51,
   "id": "729861ad",
   "metadata": {},
   "outputs": [],
   "source": [
    "pd.DataFrame(np.array(master_map)).to_csv('test_layout.csv', index=False, header=False)"
   ]
  },
  {
   "cell_type": "code",
   "execution_count": 40,
   "id": "15f29154",
   "metadata": {},
   "outputs": [
    {
     "name": "stdout",
     "output_type": "stream",
     "text": [
      "Master coords: (6, 7), submap_coords: (2, 6), Successful start_coords: (4, 0), index 0\n",
      "True\n"
     ]
    }
   ],
   "source": [
    "has_merged = attempt_to_merge_maps(master_map, layout_6, rotation=True)\n",
    "print(has_merged)"
   ]
  },
  {
   "cell_type": "code",
   "execution_count": 41,
   "id": "11059f0f",
   "metadata": {},
   "outputs": [],
   "source": [
    "pd.DataFrame(np.array(master_map)).to_csv('test_layout.csv', index=False, header=False)"
   ]
  },
  {
   "cell_type": "code",
   "execution_count": 528,
   "id": "e9c1d1a1",
   "metadata": {},
   "outputs": [],
   "source": [
    "# Make all None or remaining Exits into Wall\n",
    "for row in range(len(master_map)):\n",
    "    for col in range(len(master_map[0])):\n",
    "        if master_map[row][col] is None or master_map[row][col] == 'Exit':\n",
    "            master_map[row][col] = 'Wall'"
   ]
  },
  {
   "cell_type": "code",
   "execution_count": 529,
   "id": "f61bbb64",
   "metadata": {},
   "outputs": [],
   "source": [
    "pd.DataFrame(np.array(master_map)).to_csv('test_layout.csv', index=False, header=False)"
   ]
  },
  {
   "cell_type": "code",
   "execution_count": 7,
   "id": "14c918c6",
   "metadata": {},
   "outputs": [],
   "source": [
    "import numpy as np\n",
    "\n",
    "vec = [i for i in range(20)]\n",
    "weights = np.array([i+10 for i in range(20)])\n",
    "probabilities = weights / np.sum(weights)\n",
    "# TODO: Handle different weights at different stages\n",
    "index_choices = np.random.choice(vec,size=5,replace=False, p=probabilities)"
   ]
  },
  {
   "cell_type": "code",
   "execution_count": null,
   "id": "95c1bf5e",
   "metadata": {},
   "outputs": [],
   "source": [
    "chosen_layouts = [layouts[index] for index in index_choices]"
   ]
  },
  {
   "cell_type": "code",
   "execution_count": 9,
   "id": "7b8b3370",
   "metadata": {},
   "outputs": [],
   "source": [
    "from pathlib import Path\n",
    "\n",
    "TEMPLATES_DIR = Path.cwd().parent.parent / 'templates'\n",
    "MAP_SAVE_PATH = TEMPLATES_DIR / 'master_layout.csv'\n",
    "# Note : These layouts are for testing purposes\n",
    "layout_paths = [f\"{TEMPLATES_DIR / 'layout_'}{i}.csv\"for i in range(1, 8+1)]"
   ]
  },
  {
   "cell_type": "code",
   "execution_count": 10,
   "id": "96830ebe",
   "metadata": {},
   "outputs": [
    {
     "data": {
      "text/plain": [
       "['/Users/jonathanlim/workspace/mila/open-ada/Minigrid/templates/layout_1.csv',\n",
       " '/Users/jonathanlim/workspace/mila/open-ada/Minigrid/templates/layout_2.csv',\n",
       " '/Users/jonathanlim/workspace/mila/open-ada/Minigrid/templates/layout_3.csv',\n",
       " '/Users/jonathanlim/workspace/mila/open-ada/Minigrid/templates/layout_4.csv',\n",
       " '/Users/jonathanlim/workspace/mila/open-ada/Minigrid/templates/layout_5.csv',\n",
       " '/Users/jonathanlim/workspace/mila/open-ada/Minigrid/templates/layout_6.csv',\n",
       " '/Users/jonathanlim/workspace/mila/open-ada/Minigrid/templates/layout_7.csv',\n",
       " '/Users/jonathanlim/workspace/mila/open-ada/Minigrid/templates/layout_8.csv']"
      ]
     },
     "execution_count": 10,
     "metadata": {},
     "output_type": "execute_result"
    }
   ],
   "source": [
    "layout_paths"
   ]
  },
  {
   "cell_type": "code",
   "execution_count": null,
   "id": "64d3e6d3",
   "metadata": {},
   "outputs": [],
   "source": []
  }
 ],
 "metadata": {
  "kernelspec": {
   "display_name": "Python 3",
   "language": "python",
   "name": "python3"
  },
  "language_info": {
   "codemirror_mode": {
    "name": "ipython",
    "version": 3
   },
   "file_extension": ".py",
   "mimetype": "text/x-python",
   "name": "python",
   "nbconvert_exporter": "python",
   "pygments_lexer": "ipython3",
   "version": "3.8.5"
  }
 },
 "nbformat": 4,
 "nbformat_minor": 5
}
