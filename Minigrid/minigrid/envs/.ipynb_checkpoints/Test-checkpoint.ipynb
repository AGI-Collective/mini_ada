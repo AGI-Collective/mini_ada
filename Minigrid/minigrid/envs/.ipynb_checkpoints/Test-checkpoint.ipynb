{
 "cells": [
  {
   "cell_type": "code",
   "execution_count": 1,
   "id": "234ec658",
   "metadata": {},
   "outputs": [
    {
     "name": "stderr",
     "output_type": "stream",
     "text": [
      "/Users/jonathanlim/.local/lib/python3.8/site-packages/pandas/core/computation/expressions.py:20: UserWarning: Pandas requires version '2.7.3' or newer of 'numexpr' (version '2.7.1' currently installed).\n",
      "  from pandas.core.computation.check import NUMEXPR_INSTALLED\n"
     ]
    }
   ],
   "source": [
    "import pandas as pd"
   ]
  },
  {
   "cell_type": "code",
   "execution_count": 32,
   "id": "da8fc68e",
   "metadata": {},
   "outputs": [],
   "source": [
    "map_arr = pd.read_csv('layout.csv', header=None).to_numpy()"
   ]
  },
  {
   "cell_type": "code",
   "execution_count": 33,
   "id": "4ba9df59",
   "metadata": {},
   "outputs": [
    {
     "data": {
      "text/plain": [
       "array([['Space', 'Space', 'Wall', 'Key', 'Space'],\n",
       "       ['Space', 'Key', 'Door', 'Space', 'Door'],\n",
       "       ['Space', 'Agent', 'Wall', 'Goal', 'Space']], dtype=object)"
      ]
     },
     "execution_count": 33,
     "metadata": {},
     "output_type": "execute_result"
    }
   ],
   "source": [
    "map_arr"
   ]
  },
  {
   "cell_type": "code",
   "execution_count": 36,
   "id": "fa6357f6",
   "metadata": {},
   "outputs": [],
   "source": [
    "OBJ_DICT = {\n",
    "    'Key': set(),\n",
    "    'Door': set(),\n",
    "    'Goal': set(),\n",
    "    'Agent': set(),\n",
    "    'Wall': set(),\n",
    "    'Width': None,\n",
    "    'Height': None,\n",
    "}\n",
    "\n",
    "def get_obj_coords(map_arr, input_obj_dict):\n",
    "    obj_dict = input_obj_dict.copy()\n",
    "\n",
    "    height = len(map_arr)\n",
    "    width = len(map_arr[0])\n",
    "    obj_dict['Width'] = width\n",
    "    obj_dict['Height'] = height\n",
    "    \n",
    "    for row in range(height):\n",
    "        for col in range(width):\n",
    "            cell_type = map_arr[row][col]\n",
    "            if cell_type in obj_dict:\n",
    "                # Gym is (col, row) format\n",
    "                # +1 due to surrounding wall\n",
    "                obj_dict[cell_type].add((col+1, row+1))\n",
    "\n",
    "    # Convert the object info set back into iterable list\n",
    "    for obj, info in obj_dict.items():\n",
    "        if type(info) == set:\n",
    "            obj_dict[obj] = list(info)\n",
    "        else:\n",
    "            obj_dict[obj] = info\n",
    "\n",
    "    return obj_dict"
   ]
  },
  {
   "cell_type": "code",
   "execution_count": 37,
   "id": "d4e714e2",
   "metadata": {},
   "outputs": [
    {
     "data": {
      "text/plain": [
       "{'Key': [(4, 1), (2, 2)],\n",
       " 'Door': [(3, 2), (5, 2)],\n",
       " 'Goal': [(4, 3)],\n",
       " 'Agent': [(2, 3)],\n",
       " 'Wall': [(3, 1), (3, 3)],\n",
       " 'Width': 5,\n",
       " 'Height': 3}"
      ]
     },
     "execution_count": 37,
     "metadata": {},
     "output_type": "execute_result"
    }
   ],
   "source": [
    "get_obj_coords(map_arr, OBJ_DICT)"
   ]
  },
  {
   "cell_type": "code",
   "execution_count": null,
   "id": "5933d479",
   "metadata": {},
   "outputs": [],
   "source": []
  }
 ],
 "metadata": {
  "kernelspec": {
   "display_name": "Python 3",
   "language": "python",
   "name": "python3"
  },
  "language_info": {
   "codemirror_mode": {
    "name": "ipython",
    "version": 3
   },
   "file_extension": ".py",
   "mimetype": "text/x-python",
   "name": "python",
   "nbconvert_exporter": "python",
   "pygments_lexer": "ipython3",
   "version": "3.8.5"
  }
 },
 "nbformat": 4,
 "nbformat_minor": 5
}
