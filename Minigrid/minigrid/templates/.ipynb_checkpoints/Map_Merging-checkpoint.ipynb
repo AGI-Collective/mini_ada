{
 "cells": [
  {
   "cell_type": "code",
   "execution_count": 606,
   "id": "6ca21112",
   "metadata": {},
   "outputs": [],
   "source": [
    "import pandas as pd\n",
    "import numpy as np\n",
    "import random "
   ]
  },
  {
   "cell_type": "code",
   "execution_count": 607,
   "id": "6fb29ee1",
   "metadata": {},
   "outputs": [],
   "source": [
    "layout_1 = pd.read_csv('layout_1.csv', header=None).to_numpy()\n",
    "layout_2 = pd.read_csv('layout_2.csv', header=None).to_numpy()"
   ]
  },
  {
   "cell_type": "code",
   "execution_count": 608,
   "id": "576f9e59",
   "metadata": {},
   "outputs": [
    {
     "data": {
      "text/plain": [
       "array([['Wall', 'Wall', 'Wall', 'Wall', 'Wall', 'Wall', 'Wall'],\n",
       "       ['Wall', 'Space', 'Space', 'Wall', 'Space', 'Space', 'Wall'],\n",
       "       ['Wall', 'Space', 'Wall', 'Space', 'Space', 'Space', 'Wall'],\n",
       "       ['Wall', 'Space', 'Space', 'Wall', 'Space', 'Space', 'Wall'],\n",
       "       ['Wall', 'Agent', 'Space', 'Space', 'Space', 'Space', 'Space'],\n",
       "       ['Wall', 'Space', 'Wall', 'Space', 'Space', 'Space', 'Wall'],\n",
       "       ['Wall', 'Wall', 'Wall', 'Wall', 'Wall', 'Wall', 'Wall']],\n",
       "      dtype=object)"
      ]
     },
     "execution_count": 608,
     "metadata": {},
     "output_type": "execute_result"
    }
   ],
   "source": [
    "layout_1"
   ]
  },
  {
   "cell_type": "code",
   "execution_count": 609,
   "id": "6749db36",
   "metadata": {},
   "outputs": [
    {
     "data": {
      "text/plain": [
       "array([['Wall', 'Wall', 'Wall', 'Wall', 'Wall', 'Wall', 'Wall'],\n",
       "       ['Wall', 'Space', 'Space', 'Wall', 'Space', 'Space', 'Wall'],\n",
       "       ['Wall', 'Space', 'Space', 'Space', 'Space', 'Space', 'Wall'],\n",
       "       ['Wall', 'Space', 'Space', 'Wall', 'Space', 'Space', 'Wall'],\n",
       "       ['Space', 'Space', 'Space', 'Space', 'Space', 'Space', 'Wall'],\n",
       "       ['Wall', 'Space', 'Wall', 'Space', 'Space', 'Space', 'Wall'],\n",
       "       ['Wall', 'Wall', 'Wall', 'Door', 'Wall', 'Wall', 'Wall']],\n",
       "      dtype=object)"
      ]
     },
     "execution_count": 609,
     "metadata": {},
     "output_type": "execute_result"
    }
   ],
   "source": [
    "layout_2"
   ]
  },
  {
   "cell_type": "code",
   "execution_count": 610,
   "id": "7faa9441",
   "metadata": {},
   "outputs": [],
   "source": [
    "def find_merge_side_and_coords(layout, bind_classes=['Space', 'Door']):\n",
    "    sides = []\n",
    "    coords = []\n",
    "\n",
    "    # Check left side\n",
    "    for row in range(len(layout)):\n",
    "        if layout[row][0] in bind_classes:\n",
    "            sides.append('left')\n",
    "            coords.append([row, 0])\n",
    "\n",
    "    # Check right side\n",
    "    for row in range(len(layout)):\n",
    "        if layout[row][-1] in bind_classes:\n",
    "            sides.append('right')\n",
    "            coords.append([row, len(layout[0])-1])\n",
    "\n",
    "    # Check up side\n",
    "    for col in range(len(layout[0])):\n",
    "        if layout[0][col] in bind_classes:\n",
    "            sides.append('up')\n",
    "            coords.append([0, col])\n",
    "\n",
    "    # Check down side\n",
    "    for col in range(len(layout[0])):\n",
    "        if layout[-1][col] in bind_classes:\n",
    "            sides.append('down')\n",
    "            coords.append([len(layout)-1, col])\n",
    "     \n",
    "    return sides, coords"
   ]
  },
  {
   "cell_type": "code",
   "execution_count": 611,
   "id": "f55e1c0e",
   "metadata": {},
   "outputs": [],
   "source": [
    "def pad_row_or_col(rowcol):\n",
    "    # Replace any Door with Space\n",
    "    # Returns a row or column that can be used for padding\n",
    "    padded = []\n",
    "    for cell in rowcol:\n",
    "        if cell == 'Door':\n",
    "            padded.append('Space')\n",
    "        else:\n",
    "            padded.append(cell)\n",
    "    return padded"
   ]
  },
  {
   "cell_type": "code",
   "execution_count": 612,
   "id": "60eca245",
   "metadata": {},
   "outputs": [],
   "source": [
    "def combine_submaps(left_submap, right_submap):\n",
    "    found_l_side = None\n",
    "    found_l_coord = None\n",
    "    found_r_side = None\n",
    "    found_r_coord = None\n",
    "    \n",
    "    l_sides, l_coords = find_merge_side_and_coords(left_submap)\n",
    "    r_sides, r_coords = find_merge_side_and_coords(right_submap)\n",
    "    \n",
    "    left_submap_height, left_submap_width = len(left_submap), len(left_submap[0])\n",
    "    right_submap_height, right_submap_width = len(right_submap), len(right_submap[0])\n",
    "\n",
    "    for idx, l_side in enumerate(l_sides):\n",
    "        if l_side == 'left':\n",
    "            if 'right' in r_sides:\n",
    "                found_l_side = l_side\n",
    "                found_l_coord = l_coords[idx]\n",
    "                found_r_side = 'right'\n",
    "                found_r_coord = r_coords[r_sides.index(found_r_side)]\n",
    "        elif l_side == 'right':\n",
    "            if 'left' in r_sides:\n",
    "                found_l_side = l_side\n",
    "                found_l_coord = l_coords[idx]\n",
    "                found_r_side = 'left'\n",
    "                found_r_coord = r_coords[r_sides.index(found_r_side)]\n",
    "        elif l_side == 'up':\n",
    "            if 'down' in r_sides:\n",
    "                found_l_side = l_side\n",
    "                found_l_coord = l_coords[idx]\n",
    "                found_r_side = 'down'\n",
    "                found_r_coord = r_coords[r_sides.index(found_r_side)]\n",
    "        elif l_side == 'down':\n",
    "            if 'up' in r_sides:\n",
    "                found_l_side = l_side\n",
    "                found_l_coord = l_coords[idx]\n",
    "                found_r_side = 'up'\n",
    "                found_r_coord = r_coords[r_sides.index(found_r_side)]\n",
    "                \n",
    "    \n",
    "    if found_l_side is not None and found_r_side is not None:\n",
    "        if found_l_side in ['left', 'right']:    \n",
    "            # Add padding to the top of the submap which ends first\n",
    "            # Positive top diff means pad left submap, negative top diff means pad right submap\n",
    "            top_diff = found_r_coord[0] - found_l_coord[0]\n",
    "            if top_diff > 0:\n",
    "                padding = [pad_row_or_col(left_submap[0]) for row in range(top_diff)]\n",
    "                left_submap_padded = np.concatenate([padding, left_submap])\n",
    "                right_submap_padded = right_submap\n",
    "            elif top_diff < 0:\n",
    "                padding = [pad_row_or_col(right_submap[0]) for row in range(-top_diff)]\n",
    "                right_submap_padded = np.concatenate([padding, right_submap])\n",
    "                left_submap_padded = left_submap\n",
    "\n",
    "            # Add padding to the bottom of the submap which ends first\n",
    "            bottom_diff = (right_submap_height - found_r_coord[0] - 1) - (left_submap_height - found_l_coord[0] - 1)\n",
    "            if bottom_diff > 0:\n",
    "                padding = [pad_row_or_col(left_submap_padded[-1]) for row in range(bottom_diff)]\n",
    "                left_submap_padded = np.concatenate([left_submap_padded, padding])\n",
    "            elif bottom_diff < 0:\n",
    "                padding = [pad_row_or_col(right_submap_padded[-1]) for row in range(-bottom_diff)]\n",
    "                right_submap_padded = np.concatenate([right_submap_padded, padding])\n",
    "\n",
    "            if found_l_side == 'right':\n",
    "                combined_submaps = np.concatenate([left_submap_padded, right_submap_padded], axis=1)\n",
    "            elif found_l_side == 'left':\n",
    "                combined_submaps = np.concatenate([right_submap_padded, left_submap_padded], axis=1)\n",
    "\n",
    "        elif found_l_side in ['up', 'down']:    \n",
    "            # Add padding to the left of the submap which ends first\n",
    "            # Positive left diff means pad left submap, negative top diff means pad right submap\n",
    "            left_diff = found_r_coord[1] - found_l_coord[1]\n",
    "            if left_diff > 0:\n",
    "                padding = np.swapaxes(np.array([pad_row_or_col(left_submap[:, 0]) for col in range(left_diff)]), 0, 1)\n",
    "                left_submap_padded = np.concatenate([padding, left_submap], axis=1)\n",
    "                right_submap_padded = right_submap\n",
    "            elif left_diff < 0:\n",
    "                padding = np.swapaxes(np.array([pad_row_or_col(right_submap[:, 0]) for col in range(-left_diff)]), 0, 1)\n",
    "                right_submap_padded = np.concatenate([padding, right_submap], axis=1)\n",
    "                left_submap_padded = left_submap\n",
    "\n",
    "            # Add padding to the right of the submap which ends first\n",
    "            right_diff = (right_submap_width - found_r_coord[1] - 1) - (left_submap_width - found_l_coord[1] - 1)\n",
    "            if right_diff > 0:\n",
    "                padding = np.swapaxes(np.array([pad_row_or_col(left_submap_padded[:, -1]) for row in range(right_diff)]), 0, 1)\n",
    "                left_submap_padded = np.concatenate([left_submap_padded, padding], axis=1)\n",
    "            elif right_diff < 0:\n",
    "                padding = np.swapaxes(np.array([pad_row_or_col(right_submap_padded[:, -1]) for row in range(-right_diff)]), 0, 1)\n",
    "                right_submap_padded = np.concatenate([right_submap_padded, padding], axis=1)\n",
    "\n",
    "            if found_l_side == 'down':\n",
    "                combined_submaps = np.concatenate([left_submap_padded, right_submap_padded])\n",
    "            elif found_l_side == 'up':\n",
    "                combined_submaps = np.concatenate([right_submap_padded, left_submap_padded])\n",
    "                \n",
    "    # No way to merge\n",
    "    else:\n",
    "        print(\"No way to merge! Skipping...\")\n",
    "        combined_submaps = left_submap\n",
    "            \n",
    "    return combined_submaps"
   ]
  },
  {
   "cell_type": "code",
   "execution_count": 615,
   "id": "6ba675cc",
   "metadata": {},
   "outputs": [
    {
     "ename": "UnboundLocalError",
     "evalue": "local variable 'left_submap_padded' referenced before assignment",
     "output_type": "error",
     "traceback": [
      "\u001b[0;31m---------------------------------------------------------------------------\u001b[0m",
      "\u001b[0;31mUnboundLocalError\u001b[0m                         Traceback (most recent call last)",
      "\u001b[0;32m/var/folders/hx/b79vxxyn1mx4cwpgx_m0p48r0000gn/T/ipykernel_13037/2746777339.py\u001b[0m in \u001b[0;36m<module>\u001b[0;34m\u001b[0m\n\u001b[0;32m----> 1\u001b[0;31m \u001b[0mcombined_submaps\u001b[0m \u001b[0;34m=\u001b[0m \u001b[0mcombine_submaps\u001b[0m\u001b[0;34m(\u001b[0m\u001b[0mlayout_1\u001b[0m\u001b[0;34m,\u001b[0m \u001b[0mlayout_2\u001b[0m\u001b[0;34m)\u001b[0m\u001b[0;34m\u001b[0m\u001b[0;34m\u001b[0m\u001b[0m\n\u001b[0m\u001b[1;32m      2\u001b[0m \u001b[0mcombined_submaps\u001b[0m\u001b[0;34m\u001b[0m\u001b[0;34m\u001b[0m\u001b[0m\n",
      "\u001b[0;32m/var/folders/hx/b79vxxyn1mx4cwpgx_m0p48r0000gn/T/ipykernel_13037/202133009.py\u001b[0m in \u001b[0;36mcombine_submaps\u001b[0;34m(left_submap, right_submap)\u001b[0m\n\u001b[1;32m     62\u001b[0m \u001b[0;34m\u001b[0m\u001b[0m\n\u001b[1;32m     63\u001b[0m             \u001b[0;32mif\u001b[0m \u001b[0mfound_l_side\u001b[0m \u001b[0;34m==\u001b[0m \u001b[0;34m'right'\u001b[0m\u001b[0;34m:\u001b[0m\u001b[0;34m\u001b[0m\u001b[0;34m\u001b[0m\u001b[0m\n\u001b[0;32m---> 64\u001b[0;31m                 \u001b[0mcombined_submaps\u001b[0m \u001b[0;34m=\u001b[0m \u001b[0mnp\u001b[0m\u001b[0;34m.\u001b[0m\u001b[0mconcatenate\u001b[0m\u001b[0;34m(\u001b[0m\u001b[0;34m[\u001b[0m\u001b[0mleft_submap_padded\u001b[0m\u001b[0;34m,\u001b[0m \u001b[0mright_submap_padded\u001b[0m\u001b[0;34m]\u001b[0m\u001b[0;34m,\u001b[0m \u001b[0maxis\u001b[0m\u001b[0;34m=\u001b[0m\u001b[0;36m1\u001b[0m\u001b[0;34m)\u001b[0m\u001b[0;34m\u001b[0m\u001b[0;34m\u001b[0m\u001b[0m\n\u001b[0m\u001b[1;32m     65\u001b[0m             \u001b[0;32melif\u001b[0m \u001b[0mfound_l_side\u001b[0m \u001b[0;34m==\u001b[0m \u001b[0;34m'left'\u001b[0m\u001b[0;34m:\u001b[0m\u001b[0;34m\u001b[0m\u001b[0;34m\u001b[0m\u001b[0m\n\u001b[1;32m     66\u001b[0m                 \u001b[0mcombined_submaps\u001b[0m \u001b[0;34m=\u001b[0m \u001b[0mnp\u001b[0m\u001b[0;34m.\u001b[0m\u001b[0mconcatenate\u001b[0m\u001b[0;34m(\u001b[0m\u001b[0;34m[\u001b[0m\u001b[0mright_submap_padded\u001b[0m\u001b[0;34m,\u001b[0m \u001b[0mleft_submap_padded\u001b[0m\u001b[0;34m]\u001b[0m\u001b[0;34m,\u001b[0m \u001b[0maxis\u001b[0m\u001b[0;34m=\u001b[0m\u001b[0;36m1\u001b[0m\u001b[0;34m)\u001b[0m\u001b[0;34m\u001b[0m\u001b[0;34m\u001b[0m\u001b[0m\n",
      "\u001b[0;31mUnboundLocalError\u001b[0m: local variable 'left_submap_padded' referenced before assignment"
     ]
    }
   ],
   "source": [
    "combined_submaps = combine_submaps(layout_1, layout_2)\n",
    "combined_submaps"
   ]
  },
  {
   "cell_type": "code",
   "execution_count": 617,
   "id": "4d0dcde6",
   "metadata": {},
   "outputs": [
    {
     "name": "stdout",
     "output_type": "stream",
     "text": [
      "layout_1.csv\n",
      "layout_2.csv\n"
     ]
    },
    {
     "ename": "UnboundLocalError",
     "evalue": "local variable 'left_submap_padded' referenced before assignment",
     "output_type": "error",
     "traceback": [
      "\u001b[0;31m---------------------------------------------------------------------------\u001b[0m",
      "\u001b[0;31mUnboundLocalError\u001b[0m                         Traceback (most recent call last)",
      "\u001b[0;32m/var/folders/hx/b79vxxyn1mx4cwpgx_m0p48r0000gn/T/ipykernel_13037/4109058401.py\u001b[0m in \u001b[0;36m<module>\u001b[0;34m\u001b[0m\n\u001b[1;32m      9\u001b[0m         \u001b[0mmaster_map\u001b[0m \u001b[0;34m=\u001b[0m \u001b[0msubmap\u001b[0m\u001b[0;34m\u001b[0m\u001b[0;34m\u001b[0m\u001b[0m\n\u001b[1;32m     10\u001b[0m     \u001b[0;32melse\u001b[0m\u001b[0;34m:\u001b[0m\u001b[0;34m\u001b[0m\u001b[0;34m\u001b[0m\u001b[0m\n\u001b[0;32m---> 11\u001b[0;31m         \u001b[0mmaster_map\u001b[0m \u001b[0;34m=\u001b[0m \u001b[0mcombine_submaps\u001b[0m\u001b[0;34m(\u001b[0m\u001b[0mmaster_map\u001b[0m\u001b[0;34m,\u001b[0m \u001b[0msubmap\u001b[0m\u001b[0;34m)\u001b[0m\u001b[0;34m\u001b[0m\u001b[0;34m\u001b[0m\u001b[0m\n\u001b[0m",
      "\u001b[0;32m/var/folders/hx/b79vxxyn1mx4cwpgx_m0p48r0000gn/T/ipykernel_13037/202133009.py\u001b[0m in \u001b[0;36mcombine_submaps\u001b[0;34m(left_submap, right_submap)\u001b[0m\n\u001b[1;32m     62\u001b[0m \u001b[0;34m\u001b[0m\u001b[0m\n\u001b[1;32m     63\u001b[0m             \u001b[0;32mif\u001b[0m \u001b[0mfound_l_side\u001b[0m \u001b[0;34m==\u001b[0m \u001b[0;34m'right'\u001b[0m\u001b[0;34m:\u001b[0m\u001b[0;34m\u001b[0m\u001b[0;34m\u001b[0m\u001b[0m\n\u001b[0;32m---> 64\u001b[0;31m                 \u001b[0mcombined_submaps\u001b[0m \u001b[0;34m=\u001b[0m \u001b[0mnp\u001b[0m\u001b[0;34m.\u001b[0m\u001b[0mconcatenate\u001b[0m\u001b[0;34m(\u001b[0m\u001b[0;34m[\u001b[0m\u001b[0mleft_submap_padded\u001b[0m\u001b[0;34m,\u001b[0m \u001b[0mright_submap_padded\u001b[0m\u001b[0;34m]\u001b[0m\u001b[0;34m,\u001b[0m \u001b[0maxis\u001b[0m\u001b[0;34m=\u001b[0m\u001b[0;36m1\u001b[0m\u001b[0;34m)\u001b[0m\u001b[0;34m\u001b[0m\u001b[0;34m\u001b[0m\u001b[0m\n\u001b[0m\u001b[1;32m     65\u001b[0m             \u001b[0;32melif\u001b[0m \u001b[0mfound_l_side\u001b[0m \u001b[0;34m==\u001b[0m \u001b[0;34m'left'\u001b[0m\u001b[0;34m:\u001b[0m\u001b[0;34m\u001b[0m\u001b[0;34m\u001b[0m\u001b[0m\n\u001b[1;32m     66\u001b[0m                 \u001b[0mcombined_submaps\u001b[0m \u001b[0;34m=\u001b[0m \u001b[0mnp\u001b[0m\u001b[0;34m.\u001b[0m\u001b[0mconcatenate\u001b[0m\u001b[0;34m(\u001b[0m\u001b[0;34m[\u001b[0m\u001b[0mright_submap_padded\u001b[0m\u001b[0;34m,\u001b[0m \u001b[0mleft_submap_padded\u001b[0m\u001b[0;34m]\u001b[0m\u001b[0;34m,\u001b[0m \u001b[0maxis\u001b[0m\u001b[0;34m=\u001b[0m\u001b[0;36m1\u001b[0m\u001b[0;34m)\u001b[0m\u001b[0;34m\u001b[0m\u001b[0;34m\u001b[0m\u001b[0m\n",
      "\u001b[0;31mUnboundLocalError\u001b[0m: local variable 'left_submap_padded' referenced before assignment"
     ]
    }
   ],
   "source": [
    "template_paths = ['layout_1.csv', 'layout_2.csv', 'layout_3.csv', 'layout_4.csv']\n",
    "\n",
    "master_map = None\n",
    "\n",
    "for path in template_paths:\n",
    "    print(path)\n",
    "    submap = pd.read_csv(path, header=None).to_numpy()\n",
    "    if master_map is None:\n",
    "        master_map = submap\n",
    "    else:\n",
    "        master_map = combine_submaps(master_map, submap)"
   ]
  },
  {
   "cell_type": "code",
   "execution_count": 314,
   "id": "52024e7d",
   "metadata": {},
   "outputs": [],
   "source": [
    "pd.DataFrame(master_map).to_csv('master_layout.csv', index=False, header=False)"
   ]
  },
  {
   "cell_type": "code",
   "execution_count": 580,
   "id": "4196e585",
   "metadata": {},
   "outputs": [],
   "source": [
    "master_height = 30\n",
    "master_width = 30\n",
    "master_map = []\n",
    "\n",
    "# Init master_map\n",
    "for i in range(master_height):\n",
    "    row = []\n",
    "    for j in range(master_width):\n",
    "        row.append(None)\n",
    "    master_map.append(row)\n"
   ]
  },
  {
   "cell_type": "code",
   "execution_count": 581,
   "id": "52822d52",
   "metadata": {},
   "outputs": [],
   "source": [
    "master_map = np.array(master_map)"
   ]
  },
  {
   "cell_type": "code",
   "execution_count": 582,
   "id": "10975ba1",
   "metadata": {},
   "outputs": [],
   "source": [
    "layout_5 = pd.read_csv('layout_5.csv', header=None).to_numpy()\n",
    "layout_6 = pd.read_csv('layout_6.csv', header=None).to_numpy()\n",
    "layout_7 = pd.read_csv('layout_7.csv', header=None).to_numpy()\n",
    "submap = layout_5\n",
    "submap_2 = layout_6\n",
    "submap_3 = layout_7"
   ]
  },
  {
   "cell_type": "code",
   "execution_count": 583,
   "id": "19d2a283",
   "metadata": {},
   "outputs": [],
   "source": [
    "mastermap_height = master_map.shape[0]\n",
    "mastermap_width = master_map.shape[1]\n",
    "\n",
    "submap_height = submap.shape[0]\n",
    "submap_width = submap.shape[1]"
   ]
  },
  {
   "cell_type": "code",
   "execution_count": 584,
   "id": "66d6f97f",
   "metadata": {},
   "outputs": [
    {
     "data": {
      "text/plain": [
       "(7, 7)"
      ]
     },
     "execution_count": 584,
     "metadata": {},
     "output_type": "execute_result"
    }
   ],
   "source": [
    "submap_height, submap_width"
   ]
  },
  {
   "cell_type": "code",
   "execution_count": 585,
   "id": "0f20e5f3",
   "metadata": {},
   "outputs": [],
   "source": [
    "# Randomly pick valid coordinate to place submap\n",
    "\n",
    "start_row_idx = random.randint(0, mastermap_height-submap_height)\n",
    "start_col_idx = random.randint(0, mastermap_width-submap_width)"
   ]
  },
  {
   "cell_type": "code",
   "execution_count": 586,
   "id": "30be577f",
   "metadata": {},
   "outputs": [],
   "source": [
    "# Insert submap into mastermap\n",
    "for row_idx in range(submap_height):\n",
    "    for col_idx in range(submap_width):\n",
    "        master_map[row_idx + start_row_idx][col_idx + start_col_idx] = submap[row_idx][col_idx]\n",
    "        "
   ]
  },
  {
   "cell_type": "code",
   "execution_count": 587,
   "id": "9a0673b3",
   "metadata": {},
   "outputs": [],
   "source": [
    "# Track exits\n",
    "def get_exit_coords_dict(_map, is_mastermap=True):\n",
    "    exits = {'up': [], 'down': [], 'left': [], 'right': []}\n",
    "    for row_idx in range(len(_map)):\n",
    "        for col_idx in range(len(_map[0])):\n",
    "            if _map[row_idx][col_idx] == 'Exit':\n",
    "                # Check which direction this exit is facing\n",
    "                if is_mastermap:\n",
    "                    if (row_idx-1) >= 0 and _map[row_idx-1][col_idx] is None:\n",
    "                        exits['up'].append((row_idx, col_idx))\n",
    "                    if (row_idx+1) < len(_map) and _map[row_idx+1][col_idx] is None:\n",
    "                        exits['down'].append((row_idx, col_idx))\n",
    "                    if (col_idx-1) >= 0 and _map[row_idx][col_idx-1] is None:\n",
    "                        exits['left'].append((row_idx, col_idx))\n",
    "                    if (col_idx+1) < len(_map[0]) and _map[row_idx][col_idx+1] is None:\n",
    "                        exits['right'].append((row_idx, col_idx))\n",
    "                else:\n",
    "                    if row_idx == 0:\n",
    "                        exits['up'].append((row_idx, col_idx))\n",
    "                    if row_idx == len(_map)-1:\n",
    "                        exits['down'].append((row_idx, col_idx))\n",
    "                    if col_idx == 0:\n",
    "                        exits['left'].append((row_idx, col_idx))\n",
    "                    if col_idx == len(_map[0])-1:\n",
    "                        exits['right'].append((row_idx, col_idx))\n",
    "    return exits"
   ]
  },
  {
   "cell_type": "code",
   "execution_count": 588,
   "id": "d1c273aa",
   "metadata": {},
   "outputs": [
    {
     "name": "stdout",
     "output_type": "stream",
     "text": [
      "{'up': [], 'down': [(10, 23)], 'left': [], 'right': []}\n",
      "{'up': [(0, 2)], 'down': [], 'left': [(4, 0)], 'right': []}\n"
     ]
    }
   ],
   "source": [
    "mastermap_exits_coords_dict = get_exit_coords_dict(master_map)\n",
    "print(mastermap_exits_coords_dict)\n",
    "\n",
    "submap_exits_coords_dict = get_exit_coords_dict(submap_2, is_mastermap=False)\n",
    "print(submap_exits_coords_dict)"
   ]
  },
  {
   "cell_type": "code",
   "execution_count": 577,
   "id": "d5b56fb2",
   "metadata": {},
   "outputs": [],
   "source": [
    "# Add another submap to master map\n",
    "# For each exit on submap, check if there is an available corresponding exit on mastermap to connect to (e.g. left-facing, right-facing, up-facing, down-facing)\n",
    "submap = submap_2\n",
    "\n",
    "has_merged = False\n",
    "# TODO: Have a dictionary of valid merge coords and then randomly select one merge\n",
    "\n",
    "# Submap left exits\n",
    "for s_exit in submap_exits_coords_dict['left']:\n",
    "    # Check if mastermap has right-facing exits\n",
    "    for m_exit in mastermap_exits_coords_dict['right']:\n",
    "        # Check if there's enough height and width space to connect submap at exit coord\n",
    "        has_space = True\n",
    "        # Height checks\n",
    "        # Check above connection\n",
    "        for row_idx in range(s_exit[0]+1):\n",
    "            m_row_idx = m_exit[0]-row_idx\n",
    "            m_col_idx = m_exit[1]+1\n",
    "            if m_row_idx < 0 or m_col_idx >= len(master_map) or master_map[m_row_idx][m_col_idx] is not None:\n",
    "                has_space = False\n",
    "        # Check below connection\n",
    "        for row_idx in range(len(submap)-s_exit[0]):\n",
    "            m_row_idx = m_exit[0]+row_idx\n",
    "            m_col_idx = m_exit[1]+1\n",
    "            if m_row_idx >= len(master_map) or m_col_idx >= len(master_map[0]) or master_map[m_row_idx][m_col_idx] is not None:\n",
    "                has_space = False\n",
    "        # Width checks\n",
    "        for col_idx in range(len(submap[0])):\n",
    "            m_row_idx = m_exit[0]\n",
    "            m_col_idx = m_exit[1]+1+col_idx\n",
    "            if m_col_idx >= len(master_map) or master_map[m_row_idx][m_col_idx] is not None:\n",
    "                has_space = False\n",
    "    \n",
    "        # Add submap to master map \n",
    "        if has_space:\n",
    "            start_coord = (m_exit[0]-s_exit[0], m_exit[1]+1)\n",
    "\n",
    "            for row_idx in range(len(submap)):\n",
    "                for col_idx in range(len(submap[0])):\n",
    "                     master_map[start_coord[0] + row_idx][start_coord[1] + col_idx] = submap[row_idx][col_idx]\n",
    "\n",
    "            master_map[m_exit[0]][m_exit[1]] = 'Space'\n",
    "            master_map[m_exit[0]][m_exit[1]+1] = 'Space'\n",
    "            has_merged = True\n",
    "            break\n",
    "    \n",
    "    if has_merged:\n",
    "        break\n",
    "\n",
    "# Submap right exits\n",
    "for s_exit in submap_exits_coords_dict['right']:\n",
    "    # Check if mastermap has left-facing exits\n",
    "    for m_exit in mastermap_exits_coords_dict['left']:\n",
    "        # Check if there's enough height and width space to connect submap at exit coord\n",
    "        has_space = True\n",
    "        # Height checks\n",
    "        # Check above connection\n",
    "        for row_idx in range(s_exit[0]+1):\n",
    "            m_row_idx = m_exit[0]-row_idx\n",
    "            m_col_idx = m_exit[1]-1\n",
    "            if m_row_idx < 0 or m_col_idx >= len(master_map) or master_map[m_row_idx][m_col_idx] is not None:\n",
    "                has_space = False\n",
    "        # Check below connection\n",
    "        for row_idx in range(len(submap)-s_exit[0]):\n",
    "            m_row_idx = m_exit[0]+row_idx\n",
    "            m_col_idx = m_exit[1]-1\n",
    "            if m_row_idx >= len(master_map) or m_col_idx >= len(master_map[0]) or master_map[m_row_idx][m_col_idx] is not None:\n",
    "                has_space = False\n",
    "        # Width checks\n",
    "        for col_idx in range(len(submap[0])):\n",
    "            m_row_idx = m_exit[0]\n",
    "            m_col_idx = m_exit[1]-1+col_idx\n",
    "            if m_col_idx < 0 or master_map[m_row_idx][m_col_idx] is not None:\n",
    "                has_space = False\n",
    "    \n",
    "        # Add submap to master map \n",
    "        if has_space:\n",
    "            start_coord = (m_exit[0]-s_exit[0], m_exit[1]+1)\n",
    "\n",
    "            for row_idx in range(len(submap)):\n",
    "                for col_idx in range(len(submap[0])):\n",
    "                     master_map[start_coord[0] + row_idx][start_coord[1] + col_idx] = submap[row_idx][col_idx]\n",
    "\n",
    "            master_map[m_exit[0]][m_exit[1]] = 'Space'\n",
    "            master_map[m_exit[0]][m_exit[1]+1] = 'Space'\n",
    "            has_merged = True\n",
    "            break\n",
    "    \n",
    "    if has_merged:\n",
    "        break\n",
    "        \n",
    "# Submap up exits\n",
    "for s_exit in submap_exits_coords_dict['up']:\n",
    "    # Check if mastermap has left-facing exits\n",
    "    for m_exit in mastermap_exits_coords_dict['down']:\n",
    "        # Check if there's enough height and width space to connect submap at exit coord\n",
    "        has_space = True\n",
    "        # Height checks\n",
    "        # Check left of connection\n",
    "        for col_idx in range(s_exit[1]+1):\n",
    "            if master_map[m_exit[0]+1][m_exit[1]-col_idx] is not None:\n",
    "                has_space = False\n",
    "        # Check right of connection\n",
    "        for col_idx in range(len(submap[0])-s_exit[1]):\n",
    "            if master_map[m_exit[0]+1][m_exit[1]+col_idx] is not None:\n",
    "                has_space = False\n",
    "        # Height checks\n",
    "        for row_idx in range(s_exit[0]+1):\n",
    "            if master_map[m_exit[0]][m_exit[1]-1-col_idx] is not None:\n",
    "                has_space = False\n",
    "    \n",
    "        # Add submap to master map \n",
    "        if has_space:\n",
    "            start_coord = (m_exit[0]+1, m_exit[1]-s_exit[0])\n",
    "\n",
    "            for row_idx in range(len(submap)):\n",
    "                for col_idx in range(len(submap[0])):\n",
    "                     master_map[start_coord[0] + row_idx][start_coord[1] + col_idx] = submap[row_idx][col_idx]\n",
    "\n",
    "            master_map[m_exit[0]][m_exit[1]] = 'Space'\n",
    "            master_map[m_exit[0]][m_exit[1]+1] = 'Space'\n",
    "            has_merged = True\n",
    "            break\n",
    "    \n",
    "    if has_merged:\n",
    "        break"
   ]
  },
  {
   "cell_type": "code",
   "execution_count": 578,
   "id": "b9d2aa1d",
   "metadata": {},
   "outputs": [],
   "source": [
    "# # Make all None or remaining Exits into Wall\n",
    "# for row in range(len(master_map)):\n",
    "#     for col in range(len(master_map[0])):\n",
    "#         if master_map[row][col] is None or master_map[row][col] == 'Exit':\n",
    "#             master_map[row][col] = 'Wall'"
   ]
  },
  {
   "cell_type": "code",
   "execution_count": 579,
   "id": "c957a46c",
   "metadata": {},
   "outputs": [],
   "source": [
    "pd.DataFrame(np.array(master_map)).to_csv('test_layout.csv', index=False, header=False)"
   ]
  },
  {
   "cell_type": "code",
   "execution_count": null,
   "id": "646753a9",
   "metadata": {},
   "outputs": [],
   "source": []
  }
 ],
 "metadata": {
  "kernelspec": {
   "display_name": "Python 3 (ipykernel)",
   "language": "python",
   "name": "python3"
  },
  "language_info": {
   "codemirror_mode": {
    "name": "ipython",
    "version": 3
   },
   "file_extension": ".py",
   "mimetype": "text/x-python",
   "name": "python",
   "nbconvert_exporter": "python",
   "pygments_lexer": "ipython3",
   "version": "3.8.8"
  }
 },
 "nbformat": 4,
 "nbformat_minor": 5
}
